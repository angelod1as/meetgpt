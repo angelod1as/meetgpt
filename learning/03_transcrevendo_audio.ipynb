{
 "cells": [
  {
   "cell_type": "code",
   "execution_count": 4,
   "metadata": {},
   "outputs": [],
   "source": [
    "import openai\n",
    "from dotenv import find_dotenv, load_dotenv\n",
    "_ = load_dotenv(find_dotenv())\n",
    "\n",
    "client = openai.OpenAI()"
   ]
  },
  {
   "cell_type": "code",
   "execution_count": 6,
   "metadata": {},
   "outputs": [],
   "source": [
    "def transcreve_audio(caminho_audio, language='pt', response_format='text'):\n",
    "  with open(caminho_audio, 'rb') as arquivo_audio:\n",
    "    transcricao = client.audio.transcriptions.create(\n",
    "      model='whisper-1',\n",
    "      language=language,\n",
    "      response_format=response_format,\n",
    "      file=arquivo_audio\n",
    "    )\n",
    "  return transcricao"
   ]
  },
  {
   "cell_type": "code",
   "execution_count": 7,
   "metadata": {},
   "outputs": [],
   "source": [
    "transcricao = transcreve_audio('audio.mp3')"
   ]
  },
  {
   "cell_type": "code",
   "execution_count": 8,
   "metadata": {},
   "outputs": [
    {
     "data": {
      "text/plain": [
       "'Bom dia, Helena. Como tem sido o trabalho remoto para você? Bom dia, Carlos. No geral, tem sido uma transição interessante, mas confesso que sinto falta do ambiente do escritório e você. Compreendo. Para mim, a adaptação foi desafiadora no início, mas agora estou começando a apreciar os benefícios. Menos deslocamentos, mais flexibilidade são definitivamente pontos positivos. Concordo, mas às vezes sinto que a comunicação fica um pouco prejudicada. Não é a mesma coisa que discutir as coisas cara a cara. Sim, entendo. Estou tentando compensar isso com reuniões virtuais mais frequentes. Inclusive, acho que precisamos revisitar nossa estratégia de comunicação para garantir que todos estejam na mesma página. Boa ideia. Também tenho notado que, com o tempo, a fronteira entre vida profissional e pessoal está se tornando mais tênue. É um desafio separar os dois. Cumprindo totalmente. Talvez seja útil estabelecer horários mais rígidos para o trabalho e garantir que todos respeitem esses limites. Além disso, estou pensando em promover atividades virtuais para manter a equipe conectada de maneira informal.\\n'"
      ]
     },
     "execution_count": 8,
     "metadata": {},
     "output_type": "execute_result"
    }
   ],
   "source": [
    "transcricao"
   ]
  },
  {
   "cell_type": "code",
   "execution_count": null,
   "metadata": {},
   "outputs": [],
   "source": []
  }
 ],
 "metadata": {
  "kernelspec": {
   "display_name": "meetgpt-msuy",
   "language": "python",
   "name": "python3"
  },
  "language_info": {
   "codemirror_mode": {
    "name": "ipython",
    "version": 3
   },
   "file_extension": ".py",
   "mimetype": "text/x-python",
   "name": "python",
   "nbconvert_exporter": "python",
   "pygments_lexer": "ipython3",
   "version": "3.13.0"
  }
 },
 "nbformat": 4,
 "nbformat_minor": 2
}
