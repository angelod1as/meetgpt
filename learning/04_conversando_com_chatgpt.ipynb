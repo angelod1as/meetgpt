{
 "cells": [
  {
   "cell_type": "code",
   "execution_count": 7,
   "metadata": {},
   "outputs": [],
   "source": [
    "import openai\n",
    "from dotenv import load_dotenv, find_dotenv\n",
    "\n",
    "_ = load_dotenv(find_dotenv())\n",
    "\n",
    "client = openai.OpenAI()"
   ]
  },
  {
   "cell_type": "code",
   "execution_count": 8,
   "metadata": {},
   "outputs": [],
   "source": [
    "def chat_openai(mensagens, modelo=\"gpt-3.5-turbo-1106\", temperatura=0, stream=False):\n",
    "    reposta = client.chat.completions.create(\n",
    "        model=modelo,\n",
    "        messages=mensagens,\n",
    "        temperature=temperatura,\n",
    "        stream=stream,\n",
    "    )\n",
    "    return reposta"
   ]
  },
  {
   "cell_type": "code",
   "execution_count": 9,
   "metadata": {},
   "outputs": [],
   "source": [
    "mensagens = [{\"role\": \"user\", \"content\": \"O que é uma maçã em até 5 palavras?\"}]\n",
    "resposta = chat_openai(mensagens)"
   ]
  },
  {
   "cell_type": "code",
   "execution_count": 12,
   "metadata": {},
   "outputs": [],
   "source": [
    "mensagens.append({\"role\": \"assistant\", \"content\": resposta.choices[0].message.content})"
   ]
  },
  {
   "cell_type": "code",
   "execution_count": 14,
   "metadata": {},
   "outputs": [],
   "source": [
    "mensagens.append({\"role\": \"user\", \"content\": \"E qual a sua cor?\"})"
   ]
  },
  {
   "cell_type": "code",
   "execution_count": 16,
   "metadata": {},
   "outputs": [
    {
     "data": {
      "text/plain": [
       "'Vermelha ou verde.'"
      ]
     },
     "execution_count": 16,
     "metadata": {},
     "output_type": "execute_result"
    }
   ],
   "source": [
    "resposta = chat_openai(mensagens)\n",
    "resposta.choices[0].message.content"
   ]
  },
  {
   "cell_type": "code",
   "execution_count": 17,
   "metadata": {},
   "outputs": [
    {
     "name": "stdout",
     "output_type": "stream",
     "text": [
      "\n",
      "Fr\n",
      "uta\n",
      " red\n",
      "onda\n",
      " e\n",
      " su\n",
      "cul\n",
      "enta\n",
      ".\n",
      "None\n"
     ]
    }
   ],
   "source": [
    "mensagens = [{\"role\": \"user\", \"content\": \"O que é uma maçã em até 5 palavras?\"}]\n",
    "respostas = chat_openai(mensagens, stream=True)\n",
    "for resposta in respostas:\n",
    "    print(resposta.choices[0].delta.content)"
   ]
  }
 ],
 "metadata": {
  "kernelspec": {
   "display_name": "meetgpt-msuy",
   "language": "python",
   "name": "python3"
  },
  "language_info": {
   "codemirror_mode": {
    "name": "ipython",
    "version": 3
   },
   "file_extension": ".py",
   "mimetype": "text/x-python",
   "name": "python",
   "nbconvert_exporter": "python",
   "pygments_lexer": "ipython3",
   "version": "3.13.0"
  }
 },
 "nbformat": 4,
 "nbformat_minor": 2
}
